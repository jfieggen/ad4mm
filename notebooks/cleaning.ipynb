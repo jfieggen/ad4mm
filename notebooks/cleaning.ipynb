{
 "cells": [
  {
   "cell_type": "markdown",
   "metadata": {},
   "source": [
    "## Jupyter notebook to pre-process data for ML"
   ]
  },
  {
   "cell_type": "code",
   "execution_count": null,
   "metadata": {},
   "outputs": [],
   "source": [
    "import pandas as pd\n",
    "import numpy as np"
   ]
  },
  {
   "cell_type": "code",
   "execution_count": null,
   "metadata": {},
   "outputs": [],
   "source": [
    "\n",
    "# Load the imputed train and test datasets\n",
    "train = pd.read_csv('/well/clifton/projects/ukb_v2/derived/prot_final/train_imp_simple.csv')\n",
    "test = pd.read_csv('/well/clifton/projects/ukb_v2/derived/prot_final/test_imp_simple.csv')\n",
    "\n",
    "print(\"Train and test data loaded successfully.\")\n"
   ]
  }
 ],
 "metadata": {
  "language_info": {
   "name": "python"
  }
 },
 "nbformat": 4,
 "nbformat_minor": 2
}
